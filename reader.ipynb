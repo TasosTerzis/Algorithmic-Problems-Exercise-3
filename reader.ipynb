{
 "cells": [
  {
   "cell_type": "code",
   "execution_count": 1,
   "metadata": {},
   "outputs": [
    {
     "data": {
      "image/png": "[encoded data removed]",
      "text/plain": [
       "<Figure size 1200x600 with 18 Axes>"
      ]
     },
     "metadata": {},
     "output_type": "display_data"
    }
   ],
   "source": [
    "from __future__ import print_function\n",
    "import struct\n",
    "import numpy as np\n",
    "import matplotlib.pyplot as plt\n",
    "\n",
    "# command line looks like: python3 reduce.py –d input/10k_images.dat -q input/100from60k.dat -od input/10k_images_REDUCED.dat -oq input/100from60k_REDUCED.dat\n",
    "\n",
    "# Function to read MNIST data from file\n",
    "\n",
    "\n",
    "def read_mnist_images(file_path):\n",
    "    with open(file_path, 'rb') as f:\n",
    "        # Read magic number, number of images, rows, and columns\n",
    "        magic_number, num_images, rows, cols = struct.unpack(\n",
    "            '>IIII', f.read(16))\n",
    "\n",
    "        # Read image data\n",
    "        image_size = rows * cols\n",
    "        images = np.frombuffer(f.read(image_size * num_images), dtype=np.uint8)\n",
    "        images = images.reshape(num_images, rows, cols)\n",
    "\n",
    "    return images\n",
    "\n",
    "\n",
    "# Paths to your MNIST-like files\n",
    "file_path1 = 'input/10k_images_REDUCED.dat'\n",
    "file_path2 = 'input/100from60k_REDUCED.dat'\n",
    "\n",
    "# Read data from the files\n",
    "data1 = read_mnist_images(file_path1)\n",
    "data2 = read_mnist_images(file_path2)\n",
    "\n",
    "# Display 9 random images from each dataset\n",
    "fig, ax = plt.subplots(3, 6, figsize=(12, 6))\n",
    "for i in range(3):\n",
    "    for j in range(6):\n",
    "        if j < 3:\n",
    "            ax[i, j].imshow(\n",
    "                data1[np.random.randint(0, len(data1))], cmap='gray')\n",
    "        else:\n",
    "            ax[i, j].imshow(\n",
    "                data2[np.random.randint(0, len(data2))], cmap='gray')\n",
    "        ax[i, j].axis('off')\n",
    "plt.show()"
   ]
  },
  {
   "cell_type": "code",
   "execution_count": 2,
   "metadata": {},
   "outputs": [
    {
     "name": "stderr",
     "output_type": "stream",
     "text": [
      "2024-01-02 19:14:37.942730: I tensorflow/stream_executor/platform/default/dso_loader.cc:49] Successfully opened dynamic library libcudart.so.10.1\n"
     ]
    }
   ],
   "source": [
    "# convert the data to float32\n",
    "data1 = data1.astype(np.float32)\n",
    "data2 = data2.astype(np.float32)\n",
    "\n",
    "# normalize the data to range [0, 1]\n",
    "data1 /= 255\n",
    "data2 /= 255\n",
    "\n",
    "# load the decoder model\n",
    "from keras.models import load_model\n",
    "decoder = load_model('decoder.h5')\n",
    "\n",
    "# decode the data\n",
    "decoded1 = decoder.predict(data1)\n",
    "decoded2 = decoder.predict(data2)\n",
    "\n",
    "#restore the data to range [0, 255]\n",
    "decoded1 *= 255\n",
    "decoded2 *= 255\n",
    "\n",
    "# convert the data to uint8\n",
    "decoded1 = decoded1.astype(np.uint8)\n",
    "decoded2 = decoded2.astype(np.uint8)\n",
    "\n",
    "# Display 9 random images from each dataset\n",
    "fig, ax = plt.subplots(3, 6, figsize=(12, 6))\n",
    "for i in range(3):\n",
    "    for j in range(6):\n",
    "        if j < 3:\n",
    "            ax[i, j].imshow(\n",
    "                decoded1[np.random.randint(0, len(decoded1))], cmap='gray')\n",
    "        else:\n",
    "            ax[i, j].imshow(\n",
    "                decoded2[np.random.randint(0, len(decoded2))], cmap='gray')\n",
    "        ax[i, j].axis('off')\n",
    "plt.show()"
   ]
  }
 ],
 "metadata": {
  "kernelspec": {
   "display_name": "python3.9",
   "language": "python",
   "name": "python3"
  },
  "language_info": {
   "codemirror_mode": {
    "name": "ipython",
    "version": 3
   },
   "file_extension": ".py",
   "mimetype": "text/x-python",
   "name": "python",
   "nbconvert_exporter": "python",
   "pygments_lexer": "ipython3",
   "version": "3.9.18"
  }
 },
 "nbformat": 4,
 "nbformat_minor": 2
}
