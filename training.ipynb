{
 "cells": [
  {
   "cell_type": "code",
   "execution_count": 14,
   "metadata": {},
   "outputs": [],
   "source": [
    "from __future__ import print_function\n",
    "# from IPython.display import Math, HTML\n",
    "import keras\n",
    "import struct\n",
    "import pandas as pd\n",
    "import numpy as np\n",
    "import matplotlib.pyplot as plt\n",
    "from keras.layers import Input, Conv2D, MaxPooling2D, UpSampling2D, BatchNormalization\n",
    "from keras.models import Model\n",
    "from keras.optimizers import RMSprop, Adam, SGD"
   ]
  },
  {
   "cell_type": "markdown",
   "metadata": {},
   "source": [
    "# Dataset Exploration"
   ]
  },
  {
   "cell_type": "code",
   "execution_count": 22,
   "metadata": {},
   "outputs": [
    {
     "name": "stdout",
     "output_type": "stream",
     "text": [
      "Shape of MNIST train images: (10000, 28, 28)\n",
      "Shape of MNIST test images: (4000, 28, 28)\n"
     ]
    },
    {
     "data": {
      "image/png": "[encoded data removed]",
      "text/plain": [
       "<Figure size 600x600 with 9 Axes>"
      ]
     },
     "metadata": {},
     "output_type": "display_data"
    }
   ],
   "source": [
    "# make a function to get the MNIST data from a file and return it as a numpy array\n",
    "def read_mnist_images(file_path):\n",
    "    with open(file_path, 'rb') as f:\n",
    "        # Read magic number, number of images, rows, and columns\n",
    "        magic_number, num_images, rows, cols = struct.unpack('>IIII', f.read(16))\n",
    "\n",
    "        # Read image data\n",
    "        image_size = rows * cols\n",
    "        images = np.frombuffer(f.read(image_size * num_images), dtype=np.uint8)\n",
    "        images = images.reshape(num_images, rows, cols)\n",
    "\n",
    "    return images\n",
    "\n",
    "# Provide the path to your MNIST dataset file\n",
    "file_path = './datasets/10k_images.dat'\n",
    "file_path2 = './datasets/4kfrom60k.dat'\n",
    "\n",
    "# Read MNIST images from the fileread_mnist_images(file_path)\n",
    "train_data = read_mnist_images(file_path)\n",
    "test_data = read_mnist_images(file_path2)\n",
    "# Print the shape of the data\n",
    "print(f'Shape of MNIST train images: {train_data.shape}')\n",
    "print(f'Shape of MNIST test images: {test_data.shape}')\n",
    "\n",
    "# Display the first 9 images in training data\n",
    "fig, ax = plt.subplots(3, 3, figsize=(6, 6))\n",
    "for i, axis in enumerate(ax.flat):\n",
    "    axis.imshow(train_data[i], cmap='gray')\n",
    "    axis.axis('off')\n",
    "    axis.set(title = f'Image: {i+1}')\n",
    "plt.show()\n",
    "\n"
   ]
  },
  {
   "cell_type": "markdown",
   "metadata": {},
   "source": [
    "# Data Pre-processing"
   ]
  },
  {
   "cell_type": "code",
   "execution_count": 23,
   "metadata": {},
   "outputs": [
    {
     "name": "stdout",
     "output_type": "stream",
     "text": [
      "Shape of MNIST images: (10000, 28, 28, 1)\n",
      "Type of MNIST train images: float32\n",
      "Type of MNIST test images: float32\n",
      "Range of MNIST test images: 0.0 to 1.0\n",
      "Range of MNIST train images: 0.0 to 1.0\n",
      "Shape of training data: (8000, 28, 28, 1)\n",
      "Shape of validation data: (2000, 28, 28, 1)\n",
      "Shape of training labels: (8000, 28, 28, 1)\n",
      "Shape of validation labels: (2000, 28, 28, 1)\n"
     ]
    }
   ],
   "source": [
    "train_data = train_data.reshape(-1, 28, 28, 1)\n",
    "test_data = test_data.reshape(-1, 28, 28, 1)\n",
    "# check the shape of the data\n",
    "print(f'Shape of MNIST images: {train_data.shape}')\n",
    "\n",
    "# convert the data type to float32\n",
    "train_data = train_data.astype('float32')\n",
    "test_data = test_data.astype('float32')\n",
    "\n",
    "# check the type of the data\n",
    "print(f'Type of MNIST train images: {train_data.dtype}')\n",
    "print(f'Type of MNIST test images: {test_data.dtype}')\n",
    "\n",
    "\n",
    "# normalize the data\n",
    "train_data = train_data / np.max(train_data)\n",
    "test_data = test_data / np.max(test_data)\n",
    "\n",
    "# check the range of the data\n",
    "print(f'Range of MNIST test images: {train_data.min()} to {train_data.max()}')\n",
    "print(f'Range of MNIST train images: {test_data.min()} to {test_data.max()}')\n",
    "\n",
    "# parition the data into training and validation sets\n",
    "from sklearn.model_selection import train_test_split\n",
    "train_X, valid_X, train_ground, valid_ground = train_test_split(train_data,\n",
    "                                                                train_data,\n",
    "                                                                test_size=0.2)\n",
    "\n",
    "# print the shape of training data and validation data\n",
    "print(f'Shape of training data: {train_X.shape}')\n",
    "print(f'Shape of validation data: {valid_X.shape}')\n",
    "\n",
    "print(f'Shape of training labels: {train_ground.shape}')\n",
    "print(f'Shape of validation labels: {valid_ground.shape}')"
   ]
  },
  {
   "cell_type": "markdown",
   "metadata": {},
   "source": [
    "# The Convolutional Autoencoder"
   ]
  },
  {
   "cell_type": "code",
   "execution_count": 24,
   "metadata": {},
   "outputs": [],
   "source": [
    "batch_size = 128\n",
    "epochs = 10\n",
    "inChannel = 1\n",
    "x, y = 28, 28\n",
    "input_img = Input(shape=(x, y, inChannel))"
   ]
  },
  {
   "cell_type": "code",
   "execution_count": 18,
   "metadata": {},
   "outputs": [
    {
     "name": "stdout",
     "output_type": "stream",
     "text": [
      "Model: \"model_2\"\n",
      "_________________________________________________________________\n",
      " Layer (type)                Output Shape              Param #   \n",
      "=================================================================\n",
      " input_4 (InputLayer)        [(None, 28, 28, 1)]       0         \n",
      "                                                                 \n",
      " conv2d_14 (Conv2D)          (None, 28, 28, 32)        1600      \n",
      "                                                                 \n",
      " batch_normalization_12 (Bat  (None, 28, 28, 32)       128       \n",
      " chNormalization)                                                \n",
      "                                                                 \n",
      " max_pooling2d_4 (MaxPooling  (None, 14, 14, 32)       0         \n",
      " 2D)                                                             \n",
      "                                                                 \n",
      " conv2d_15 (Conv2D)          (None, 14, 14, 64)        100416    \n",
      "                                                                 \n",
      " batch_normalization_13 (Bat  (None, 14, 14, 64)       256       \n",
      " chNormalization)                                                \n",
      "                                                                 \n",
      " max_pooling2d_5 (MaxPooling  (None, 7, 7, 64)         0         \n",
      " 2D)                                                             \n",
      "                                                                 \n",
      " conv2d_16 (Conv2D)          (None, 7, 7, 128)         401536    \n",
      "                                                                 \n",
      " batch_normalization_14 (Bat  (None, 7, 7, 128)        512       \n",
      " chNormalization)                                                \n",
      "                                                                 \n",
      " conv2d_17 (Conv2D)          (None, 7, 7, 10)          62730     \n",
      "                                                                 \n",
      " batch_normalization_15 (Bat  (None, 7, 7, 10)         40        \n",
      " chNormalization)                                                \n",
      "                                                                 \n",
      "=================================================================\n",
      "Total params: 567,218\n",
      "Trainable params: 566,750\n",
      "Non-trainable params: 468\n",
      "_________________________________________________________________\n",
      "Model: \"model_3\"\n",
      "_________________________________________________________________\n",
      " Layer (type)                Output Shape              Param #   \n",
      "=================================================================\n",
      " input_4 (InputLayer)        [(None, 28, 28, 1)]       0         \n",
      "                                                                 \n",
      " conv2d_18 (Conv2D)          (None, 28, 28, 32)        1600      \n",
      "                                                                 \n",
      " batch_normalization_16 (Bat  (None, 28, 28, 32)       128       \n",
      " chNormalization)                                                \n",
      "                                                                 \n",
      " max_pooling2d_6 (MaxPooling  (None, 14, 14, 32)       0         \n",
      " 2D)                                                             \n",
      "                                                                 \n",
      " conv2d_19 (Conv2D)          (None, 14, 14, 64)        100416    \n",
      "                                                                 \n",
      " batch_normalization_17 (Bat  (None, 14, 14, 64)       256       \n",
      " chNormalization)                                                \n",
      "                                                                 \n",
      " max_pooling2d_7 (MaxPooling  (None, 7, 7, 64)         0         \n",
      " 2D)                                                             \n",
      "                                                                 \n",
      " conv2d_20 (Conv2D)          (None, 7, 7, 128)         401536    \n",
      "                                                                 \n",
      " batch_normalization_18 (Bat  (None, 7, 7, 128)        512       \n",
      " chNormalization)                                                \n",
      "                                                                 \n",
      " conv2d_21 (Conv2D)          (None, 7, 7, 10)          62730     \n",
      "                                                                 \n",
      " batch_normalization_19 (Bat  (None, 7, 7, 10)         40        \n",
      " chNormalization)                                                \n",
      "                                                                 \n",
      " conv2d_22 (Conv2D)          (None, 7, 7, 128)         62848     \n",
      "                                                                 \n",
      " batch_normalization_20 (Bat  (None, 7, 7, 128)        512       \n",
      " chNormalization)                                                \n",
      "                                                                 \n",
      " up_sampling2d_4 (UpSampling  (None, 14, 14, 128)      0         \n",
      " 2D)                                                             \n",
      "                                                                 \n",
      " conv2d_23 (Conv2D)          (None, 14, 14, 64)        401472    \n",
      "                                                                 \n",
      " batch_normalization_21 (Bat  (None, 14, 14, 64)       256       \n",
      " chNormalization)                                                \n",
      "                                                                 \n",
      " up_sampling2d_5 (UpSampling  (None, 28, 28, 64)       0         \n",
      " 2D)                                                             \n",
      "                                                                 \n",
      " conv2d_24 (Conv2D)          (None, 28, 28, 1)         3137      \n",
      "                                                                 \n",
      "=================================================================\n",
      "Total params: 1,035,443\n",
      "Trainable params: 1,034,591\n",
      "Non-trainable params: 852\n",
      "_________________________________________________________________\n"
     ]
    }
   ],
   "source": [
    "def encoder(input_img):\n",
    "    # Encoder layers\n",
    "    conv1 = Conv2D(32, (7, 7), activation='relu', padding='same')(input_img)\n",
    "    conv1 = BatchNormalization()(conv1)\n",
    "    pool1 = MaxPooling2D(pool_size=(2, 2))(conv1)\n",
    "    conv2 = Conv2D(64, (7, 7), activation='relu', padding='same')(pool1)\n",
    "    conv2 = BatchNormalization()(conv2)\n",
    "    pool2 = MaxPooling2D(pool_size=(2, 2))(conv2)\n",
    "    conv3 = Conv2D(128, (7, 7), activation='relu', padding='same')(pool2)\n",
    "    conv3 = BatchNormalization()(conv3)\n",
    "\n",
    "    # Latent dimension (change the size as needed)\n",
    "    latent_dim = 10\n",
    "    bottleneck = Conv2D(latent_dim, (7, 7), activation='relu', padding='same')(conv3)\n",
    "    bottleneck = BatchNormalization()(bottleneck)\n",
    "\n",
    "    return bottleneck\n",
    "\n",
    "def decoder(bottleneck):\n",
    "    # Decoder layers\n",
    "    conv4 = Conv2D(128, (7, 7), activation='relu', padding='same')(bottleneck)\n",
    "    conv4 = BatchNormalization()(conv4)\n",
    "    up1 = UpSampling2D((2, 2))(conv4)\n",
    "    conv5 = Conv2D(64, (7, 7), activation='relu', padding='same')(up1)\n",
    "    conv5 = BatchNormalization()(conv5)\n",
    "    up2 = UpSampling2D((2, 2))(conv5)\n",
    "    decoded = Conv2D(1, (7, 7), activation='sigmoid', padding='same')(up2)\n",
    "\n",
    "    return decoded\n",
    "\n",
    "# Input layer\n",
    "input_img = Input(shape=(28, 28, 1))\n",
    "\n",
    "# Create the encoder and decoder models\n",
    "encoder_model = Model(input_img, encoder(input_img))\n",
    "autoencoder = Model(input_img, decoder(encoder(input_img)))\n",
    "\n",
    "# Compile the autoencoder model\n",
    "autoencoder.compile(loss='mean_squared_error', optimizer=RMSprop(0.01))\n",
    "\n",
    "# Print model summaries\n",
    "encoder_model.summary()\n",
    "autoencoder.summary()"
   ]
  },
  {
   "cell_type": "markdown",
   "metadata": {},
   "source": [
    "# Train the model"
   ]
  },
  {
   "cell_type": "code",
   "execution_count": 19,
   "metadata": {},
   "outputs": [
    {
     "name": "stdout",
     "output_type": "stream",
     "text": [
      "Epoch 1/10\n",
      "63/63 [==============================] - 115s 2s/step - loss: 0.1251 - val_loss: 0.1237\n",
      "Epoch 2/10\n",
      "63/63 [==============================] - 105s 2s/step - loss: 0.0875 - val_loss: 0.0848\n",
      "Epoch 3/10\n",
      "63/63 [==============================] - 125s 2s/step - loss: 0.0537 - val_loss: 0.0645\n",
      "Epoch 4/10\n",
      "63/63 [==============================] - 126s 2s/step - loss: 0.0333 - val_loss: 0.0500\n",
      "Epoch 5/10\n",
      "63/63 [==============================] - 126s 2s/step - loss: 0.0247 - val_loss: 0.0327\n",
      "Epoch 6/10\n",
      "63/63 [==============================] - 137s 2s/step - loss: 0.0196 - val_loss: 0.0521\n",
      "Epoch 7/10\n",
      "63/63 [==============================] - 143s 2s/step - loss: 0.0160 - val_loss: 0.0205\n",
      "Epoch 8/10\n",
      "63/63 [==============================] - 148s 2s/step - loss: 0.0132 - val_loss: 0.0273\n",
      "Epoch 9/10\n",
      "63/63 [==============================] - 134s 2s/step - loss: 0.0115 - val_loss: 0.0186\n",
      "Epoch 10/10\n",
      "63/63 [==============================] - 136s 2s/step - loss: 0.0104 - val_loss: 0.0165\n"
     ]
    }
   ],
   "source": [
    "autoencoder_train = autoencoder.fit(train_X, train_ground, batch_size=batch_size, epochs=epochs, verbose=1,validation_data=(valid_X, valid_ground))"
   ]
  },
  {
   "cell_type": "code",
   "execution_count": 20,
   "metadata": {},
   "outputs": [
    {
     "data": {
      "image/png": "[encoded data removed]",
      "text/plain": [
       "<Figure size 640x480 with 1 Axes>"
      ]
     },
     "metadata": {},
     "output_type": "display_data"
    }
   ],
   "source": [
    "loss = autoencoder_train.history['loss']\n",
    "val_loss = autoencoder_train.history['val_loss']\n",
    "epochs = range(epochs)\n",
    "plt.figure()\n",
    "plt.plot(epochs, loss, '-r', label='Training loss')\n",
    "plt.plot(epochs, val_loss, '-g', label='Validation loss')\n",
    "plt.title('Training and validation loss')\n",
    "plt.xlabel('Epochs')\n",
    "plt.ylabel('Loss')\n",
    "plt.legend()\n",
    "plt.show()"
   ]
  },
  {
   "cell_type": "markdown",
   "metadata": {},
   "source": [
    "# Test the Model"
   ]
  },
  {
   "cell_type": "code",
   "execution_count": 1,
   "metadata": {},
   "outputs": [
    {
     "ename": "NameError",
     "evalue": "name 'encoder_model' is not defined",
     "output_type": "error",
     "traceback": [
      "\u001b[0;31m---------------------------------------------------------------------------\u001b[0m",
      "\u001b[0;31mNameError\u001b[0m                                 Traceback (most recent call last)",
      "Cell \u001b[0;32mIn[1], line 14\u001b[0m\n\u001b[1;32m      1\u001b[0m \u001b[38;5;66;03m# # Predict the autoencoder output from test images\u001b[39;00m\n\u001b[1;32m      2\u001b[0m \u001b[38;5;66;03m# pred = autoencoder.predict(test_data)\u001b[39;00m\n\u001b[1;32m      3\u001b[0m \n\u001b[0;32m   (...)\u001b[0m\n\u001b[1;32m     12\u001b[0m \n\u001b[1;32m     13\u001b[0m \u001b[38;5;66;03m# Predict the encoder output from test images\u001b[39;00m\n\u001b[0;32m---> 14\u001b[0m encoded_data \u001b[38;5;241m=\u001b[39m \u001b[43mencoder_model\u001b[49m\u001b[38;5;241m.\u001b[39mpredict(test_data)\n\u001b[1;32m     16\u001b[0m \u001b[38;5;66;03m# Display the encoded representations\u001b[39;00m\n\u001b[1;32m     17\u001b[0m fig, axes \u001b[38;5;241m=\u001b[39m plt\u001b[38;5;241m.\u001b[39msubplots(nrows\u001b[38;5;241m=\u001b[39m\u001b[38;5;241m10\u001b[39m, ncols\u001b[38;5;241m=\u001b[39m\u001b[38;5;241m10\u001b[39m, figsize\u001b[38;5;241m=\u001b[39m(\u001b[38;5;241m20\u001b[39m, \u001b[38;5;241m20\u001b[39m))\n",
      "\u001b[0;31mNameError\u001b[0m: name 'encoder_model' is not defined"
     ]
    }
   ],
   "source": [
    "# # Predict the autoencoder output from test images\n",
    "# pred = autoencoder.predict(test_data)\n",
    "\n",
    "# # Plot the original test images and their reconstructions\n",
    "# fig, axes = plt.subplots(nrows=2, ncols=10, sharex=True, sharey=True, figsize=(20,4))\n",
    "# for images, row in zip([test_data, pred], axes):\n",
    "#     for img, ax in zip(images, row):\n",
    "#         ax.imshow(img.reshape((28, 28)), cmap='gray')\n",
    "#         ax.get_xaxis().set_visible(False)\n",
    "#         ax.get_yaxis().set_visible(False)\n",
    "# plt.show()\n",
    "\n",
    "# Predict the encoder output from test images\n",
    "encoded_data = encoder_model.predict(test_data)\n",
    "\n",
    "# Display the encoded representations\n",
    "fig, axes = plt.subplots(nrows=10, ncols=10, figsize=(20, 20))\n",
    "for i in range(10):  # Iterate over each encoded dimension\n",
    "    for j in range(10):  # Iterate over 10 images\n",
    "        # Select the i-th channel from the j-th image\n",
    "        channel_img = encoded_data[j, :, :, i]\n",
    "\n",
    "        # Plot the 7x7 image\n",
    "        axes[i, j].imshow(channel_img, cmap='gray')\n",
    "        axes[i, j].get_xaxis().set_visible(False)\n",
    "        axes[i, j].get_yaxis().set_visible(False)\n",
    "plt.show()"
   ]
  }
 ],
 "metadata": {
  "kernelspec": {
   "display_name": "tf",
   "language": "python",
   "name": "python3"
  },
  "language_info": {
   "codemirror_mode": {
    "name": "ipython",
    "version": 3
   },
   "file_extension": ".py",
   "mimetype": "text/x-python",
   "name": "python",
   "nbconvert_exporter": "python",
   "pygments_lexer": "ipython3",
   "version": "3.9.18"
  }
 },
 "nbformat": 4,
 "nbformat_minor": 2
}
